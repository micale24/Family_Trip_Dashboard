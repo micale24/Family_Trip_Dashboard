{
 "metadata": {
  "language_info": {
   "codemirror_mode": {
    "name": "ipython",
    "version": 3
   },
   "file_extension": ".py",
   "mimetype": "text/x-python",
   "name": "python",
   "nbconvert_exporter": "python",
   "pygments_lexer": "ipython3",
   "version": "3.8.3-final"
  },
  "orig_nbformat": 2,
  "kernelspec": {
   "name": "python3",
   "display_name": "Python 3",
   "language": "python"
  }
 },
 "nbformat": 4,
 "nbformat_minor": 2,
 "cells": [
  {
   "cell_type": "code",
   "execution_count": 1,
   "metadata": {},
   "outputs": [],
   "source": [
    "# Dependencies and Setup\n",
    "import matplotlib.pyplot as plt\n",
    "import pandas as pd\n",
    "import numpy as np\n",
    "import requests\n",
    "import time\n",
    "from scipy.stats import linregress\n",
    "import csv\n",
    "import json\n",
    "\n",
    "# Import API key\n",
    "from api_keys import weather_api_key"
   ]
  },
  {
   "cell_type": "code",
   "execution_count": 2,
   "metadata": {},
   "outputs": [],
   "source": [
    "#Geo coordinates of Orlando, FL\n",
    "FL_lat = 28.5383\n",
    "FL_lng = -81.3792\n"
   ]
  },
  {
   "cell_type": "code",
   "execution_count": 5,
   "metadata": {},
   "outputs": [
    {
     "output_type": "stream",
     "name": "stdout",
     "text": [
      "{\n    \"feels_like\": 70.83,\n    \"humidity\": 78,\n    \"pressure\": 1020,\n    \"temp\": 70.25,\n    \"temp_max\": 71.6,\n    \"temp_min\": 69.01\n}\nLoop completed.\n"
     ]
    }
   ],
   "source": [
    "lat = FL_lat\n",
    "lon = FL_lng\n",
    "cnt = 16\n",
    "\n",
    "i = 0\n",
    "while i < 1:\n",
    "    #Scraping the current weather data\n",
    "    url = f\"http://api.openweathermap.org/data/2.5/weather?lat={lat}&lon={lon}&units=imperial&appid={weather_api_key}\"\n",
    "    response =requests.get(url).json()\n",
    "    main_FL_data = response\n",
    "    for key, value in main_FL_data.items():\n",
    "        if key == \"main\":\n",
    "            FL_weather = value\n",
    "    #Creating JSON for current weather data\n",
    "    current_weather_json = json.dumps(FL_weather, sort_keys=True, indent=4)\n",
    "    with open ('current_weather_data.json', 'w') as json_file:\n",
    "        json.dump(current_weather_json, json_file)\n",
    "    # print(current_weather_json)\n",
    "    i+=1\n",
    "    print(\"Loop completed.\")\n"
   ]
  },
  {
   "cell_type": "code",
   "execution_count": null,
   "metadata": {},
   "outputs": [],
   "source": []
  }
 ]
}