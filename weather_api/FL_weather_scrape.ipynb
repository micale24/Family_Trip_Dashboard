{
 "metadata": {
  "language_info": {
   "codemirror_mode": {
    "name": "ipython",
    "version": 3
   },
   "file_extension": ".py",
   "mimetype": "text/x-python",
   "name": "python",
   "nbconvert_exporter": "python",
   "pygments_lexer": "ipython3",
   "version": "3.8.3-final"
  },
  "orig_nbformat": 2,
  "kernelspec": {
   "name": "python3",
   "display_name": "Python 3",
   "language": "python"
  }
 },
 "nbformat": 4,
 "nbformat_minor": 2,
 "cells": [
  {
   "cell_type": "code",
   "execution_count": 1,
   "metadata": {},
   "outputs": [],
   "source": [
    "# Dependencies and Setup\n",
    "import matplotlib.pyplot as plt\n",
    "import pandas as pd\n",
    "import numpy as np\n",
    "import requests\n",
    "import time\n",
    "from scipy.stats import linregress\n",
    "import csv\n",
    "\n",
    "\n",
    "# Import API key\n",
    "from api_keys import weather_api_key\n",
    "\n",
    "# Incorporated citipy to determine city based on latitude and longitude\n",
    "# from citipy import citipy\n",
    "\n",
    "# Output File (CSV)\n",
    "output_data_file = \"../output_data/FL_city.csv\"\n"
   ]
  },
  {
   "cell_type": "code",
   "execution_count": 2,
   "metadata": {},
   "outputs": [
    {
     "output_type": "stream",
     "name": "stdout",
     "text": [
      "[(28.5383, -81.3792)]\n"
     ]
    }
   ],
   "source": [
    "#Geo coordinates of Orlando, FL\n",
    "FL_lat = 28.5383\n",
    "FL_lng = -81.3792\n"
   ]
  },
  {
   "cell_type": "code",
   "execution_count": 15,
   "metadata": {},
   "outputs": [
    {
     "output_type": "stream",
     "name": "stdout",
     "text": [
      "{'coord': {'lon': -81.3792, 'lat': 28.5383}, 'weather': [{'id': 801, 'main': 'Clouds', 'description': 'few clouds', 'icon': '02d'}], 'base': 'stations', 'main': {'temp': 78.76, 'feels_like': 78.49, 'temp_min': 77, 'temp_max': 80.01, 'pressure': 1016, 'humidity': 61}, 'visibility': 10000, 'wind': {'speed': 9.22, 'deg': 230}, 'clouds': {'all': 20}, 'dt': 1611689839, 'sys': {'type': 1, 'id': 5234, 'country': 'US', 'sunrise': 1611663368, 'sunset': 1611701992}, 'timezone': -18000, 'id': 4167147, 'name': 'Orlando', 'cod': 200}\nNaN\n"
     ]
    }
   ],
   "source": [
    "lat = FL_lat\n",
    "lon = FL_lng\n",
    "city_data =[]\n",
    "city_log =[]\n",
    "city_num = 0\n",
    "for i, city in cities:\n",
    "    url = f\"http://api.openweathermap.org/data/2.5/weather?lat={lat}&lon={lon}&units=imperial&appid={weather_api_key}\"\n",
    "    try:\n",
    "        response = requests.get(url).json()\n",
    "        print(response)\n",
    "        city_data.append({\n",
    "            'city':response['name'],\n",
    "            'lat':response['coord']['lat'],\n",
    "            'lng':response['coord']['lon'],\n",
    "            'max_temp':response['main']['temp_max'],\n",
    "            'temp_feel':response['main']['feels_like'],\n",
    "            'humidity':response['main']['humidity'],\n",
    "            'cloudiness':response['clouds']['all'],\n",
    "            'wind_speed':response['wind']['speed'],\n",
    "            'wind_gust':response['wind']['gust'],\n",
    "            'rain':response['rain']['3h'],\n",
    "            'country':response['sys']['country'],\n",
    "            'date':response['dt'] })\n",
    "        city_num+=1\n",
    "        time.sleep(1)\n",
    "        city_log.append({city_num,response['name']})\n",
    "    except:\n",
    "        print(\"NaN\")\n",
    "        # have to get rid of the city not found or turn to NaN\n",
    "        pass\n"
   ]
  },
  {
   "cell_type": "code",
   "execution_count": 21,
   "metadata": {},
   "outputs": [
    {
     "output_type": "stream",
     "name": "stdout",
     "text": [
      "<class 'list'>\n"
     ]
    }
   ],
   "source": [
    "print(type(city_data))"
   ]
  },
  {
   "cell_type": "code",
   "execution_count": 26,
   "metadata": {},
   "outputs": [
    {
     "output_type": "stream",
     "name": "stdout",
     "text": [
      "{'cod': '404', 'message': 'city not found'}\n",
      "NaN\n",
      "{'cod': '404', 'message': 'city not found'}\n",
      "NaN\n",
      "{'cod': '404', 'message': 'city not found'}\n",
      "NaN\n",
      "{'cod': '404', 'message': 'city not found'}\n",
      "NaN\n",
      "{'cod': '404', 'message': 'city not found'}\n",
      "NaN\n",
      "{'cod': '404', 'message': 'city not found'}\n",
      "NaN\n",
      "{'cod': '404', 'message': 'city not found'}\n",
      "NaN\n"
     ]
    }
   ],
   "source": [
    "city_name = \n",
    "city_data =[]\n",
    "city_log =[]\n",
    "city_num = 0\n",
    "for i, city in enumerate(city_name):\n",
    "    url = f\"http://api.openweathermap.org/data/2.5/weather?q={city}&appid={weather_api_key}\"\n",
    "    try:\n",
    "        response = requests.get(url).json()\n",
    "        print(response)\n",
    "        city_data.append({\n",
    "            'city':response['name'],\n",
    "            'lat':response['coord']['lat'],\n",
    "            'lng':response['coord']['lon'],\n",
    "            'max_temp':response['main']['temp_max'],\n",
    "            'humidity':response['main']['humidity'],\n",
    "            'cloudiness':response['clouds']['all'],\n",
    "            'wind_speed':response['wind']['speed'],\n",
    "            'country':response['sys']['country'],\n",
    "            'date':response['dt'] })\n",
    "        city_num+=1\n",
    "        time.sleep(1)\n",
    "        city_log.append({city_num,response['name']})\n",
    "    except:\n",
    "        print(\"NaN\")\n",
    "        # have to get rid of the city not found or turn to NaN\n",
    "        pass"
   ]
  },
  {
   "cell_type": "code",
   "execution_count": 10,
   "metadata": {},
   "outputs": [
    {
     "output_type": "stream",
     "name": "stdout",
     "text": [
      "http://api.openweathermap.org/data/2.5/weather?q=<zip object at 0x0000024A19ECD540>&appid=8b496e3a35d0040aa8bd5651fcbdbb52\n"
     ]
    }
   ],
   "source": [
    "print(url)"
   ]
  },
  {
   "cell_type": "code",
   "execution_count": null,
   "metadata": {},
   "outputs": [],
   "source": []
  }
 ]
}