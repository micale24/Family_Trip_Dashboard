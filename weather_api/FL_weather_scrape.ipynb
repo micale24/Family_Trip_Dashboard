{
 "metadata": {
  "language_info": {
   "codemirror_mode": {
    "name": "ipython",
    "version": 3
   },
   "file_extension": ".py",
   "mimetype": "text/x-python",
   "name": "python",
   "nbconvert_exporter": "python",
   "pygments_lexer": "ipython3",
   "version": "3.8.3-final"
  },
  "orig_nbformat": 2,
  "kernelspec": {
   "name": "python3",
   "display_name": "Python 3",
   "language": "python"
  }
 },
 "nbformat": 4,
 "nbformat_minor": 2,
 "cells": [
  {
   "cell_type": "code",
   "execution_count": 20,
   "metadata": {},
   "outputs": [],
   "source": [
    "# Dependencies and Setup\n",
    "import matplotlib.pyplot as plt\n",
    "import pandas as pd\n",
    "import numpy as np\n",
    "import requests\n",
    "import time\n",
    "from scipy.stats import linregress\n",
    "import csv\n",
    "import json\n",
    "\n",
    "\n",
    "# Import API key\n",
    "from api_keys import weather_api_key\n",
    "\n",
    "# Incorporated citipy to determine city based on latitude and longitude\n",
    "# from citipy import citipy\n",
    "\n",
    "# Output File (CSV)\n",
    "output_data_file = \"../output_data/FL_city.csv\"\n"
   ]
  },
  {
   "cell_type": "code",
   "execution_count": 21,
   "metadata": {},
   "outputs": [],
   "source": [
    "#Geo coordinates of Orlando, FL\n",
    "FL_lat = 28.5383\n",
    "FL_lng = -81.3792\n"
   ]
  },
  {
   "cell_type": "code",
   "execution_count": 36,
   "metadata": {},
   "outputs": [
    {
     "output_type": "stream",
     "name": "stdout",
     "text": [
      "{\n    \"coord\": {\n        \"lon\": -81.3792,\n        \"lat\": 28.5383\n    },\n    \"weather\": [\n        {\n            \"id\": 803,\n            \"main\": \"Clouds\",\n            \"description\": \"broken clouds\",\n            \"icon\": \"04d\"\n        }\n    ],\n    \"base\": \"stations\",\n    \"main\": {\n        \"temp\": 58.96,\n        \"feels_like\": 46.54,\n        \"temp_min\": 55,\n        \"temp_max\": 62.01,\n        \"pressure\": 1010,\n        \"humidity\": 51\n    },\n    \"visibility\": 10000,\n    \"wind\": {\n        \"speed\": 18.41,\n        \"deg\": 270,\n        \"gust\": 34.52\n    },\n    \"clouds\": {\n        \"all\": 75\n    },\n    \"dt\": 1612204206,\n    \"sys\": {\n        \"type\": 1,\n        \"id\": 5234,\n        \"country\": \"US\",\n        \"sunrise\": 1612181599,\n        \"sunset\": 1612220693\n    },\n    \"timezone\": -18000,\n    \"id\": 4167147,\n    \"name\": \"Orlando\",\n    \"cod\": 200\n}\nLoop completed. \n"
     ]
    }
   ],
   "source": [
    "lat = FL_lat\n",
    "lon = FL_lng\n",
    "FL_weather_data =[]\n",
    "url = f\"http://api.openweathermap.org/data/2.5/weather?lat={lat}&lon={lon}&units=imperial&appid={weather_api_key}\"\n",
    "\n",
    "i = 0\n",
    "while i < 1:\n",
    "    url = f\"http://api.openweathermap.org/data/2.5/weather?lat={lat}&lon={lon}&units=imperial&appid={weather_api_key}\"\n",
    "    response =requests.get(url).json()\n",
    "    FL_weather_data = response\n",
    "    FL_json = json.dumps(FL_weather_data, indent = 4)\n",
    "    print(FL_json)\n",
    "    i+=1\n",
    "print(\"Loop completed. \")\n"
   ]
  },
  {
   "cell_type": "code",
   "execution_count": 37,
   "metadata": {},
   "outputs": [],
   "source": [
    "\n",
    "with open (\"FL_current_weather.json\", 'x') as outfile:\n",
    "    json.dumps(FL_weather_data, indent = 4)"
   ]
  },
  {
   "cell_type": "code",
   "execution_count": null,
   "metadata": {},
   "outputs": [],
   "source": [
    "with open ()"
   ]
  }
 ]
}